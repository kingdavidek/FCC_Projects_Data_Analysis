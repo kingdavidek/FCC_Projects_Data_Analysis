{
 "cells": [
  {
   "cell_type": "markdown",
   "id": "b5d10949-a013-4e71-a165-67b8ef9059f2",
   "metadata": {
    "tags": []
   },
   "source": [
    "# Demographic Data exercise from freecodecamp - Data Analsysis course"
   ]
  },
  {
   "cell_type": "markdown",
   "id": "0362774b-3e1c-4a22-9fa4-75f010a7c99f",
   "metadata": {},
   "source": [
    "This cell below is where the final code will go"
   ]
  },
  {
   "cell_type": "code",
   "execution_count": 1,
   "id": "4874a7be-bbb7-4d2a-976c-59d0e069615f",
   "metadata": {},
   "outputs": [],
   "source": [
    "import numpy as np\n",
    "import pandas as pd\n",
    "import matplotlib.pyplot as plt\n",
    "from scipy import stats\n",
    "\n",
    "\n",
    "def calculate_demographic_data(print_data=True):\n",
    "    # Read data from file\n",
    "    df = pd.read_csv(\"adult.data.csv\")\n",
    "\n",
    "    # How many of each race are represented in this dataset? This should be a Pandas series with race names as the index labels.\n",
    "    race_count = df[\"race\"].value_counts()\n",
    "\n",
    "    # What is the average age of men?\n",
    "    average_age_men = df.loc[df['sex'] == \"Male\"][\"age\"].mean()\n",
    "\n",
    "    # What is the percentage of people who have a Bachelor's degree?\n",
    "    percentage_bachelors = (len(df.loc[df['education'] == \"Bachelors\"]) / len(df)) * 100\n",
    "\n",
    "    # What percentage of people with advanced education (`Bachelors`, `Masters`, or `Doctorate`) make more than 50K?\n",
    "    # What percentage of people without advanced education make more than 50K?\n",
    "\n",
    "    # with and without `Bachelors`, `Masters`, or `Doctorate`\n",
    "    higher_education = df.loc[(df['education'] == \"Bachelors\") | (df['education'] == \"Masters\") | (df['education'] == \"Doctorate\")]\n",
    "    lower_education = df.loc[~(df['education'] == \"Bachelors\") & ~(df['education'] == \"Masters\") & ~(df['education'] == \"Doctorate\")]\n",
    "\n",
    "    # percentage with salary >50K\n",
    "    higher_education_rich = (len(higher_education.loc[df['salary'] == \">50K\"]) / len(higher_education)) * 100\n",
    "    lower_education_rich = (len(lower_education.loc[df['salary'] == \">50K\"]) / len(lower_education)) * 100\n",
    "\n",
    "    # What is the minimum number of hours a person works per week (hours-per-week feature)?\n",
    "    min_work_hours = df[\"hours-per-week\"].min()\n",
    "\n",
    "    # What percentage of the people who work the minimum number of hours per week have a salary of >50K?\n",
    "    #All workers who work the minimum amount of hours:\n",
    "    min_workers = df.loc[(df['hours-per-week'] == min_work_hours)]\n",
    "    # Workers who work minimum and earn more than 50k divided by total workers who work minimum\n",
    "    num_min_workers = (len(min_workers.loc[min_workers[\"salary\"] == \">50K\"]) / len(min_workers))\n",
    "\n",
    "    rich_percentage = num_min_workers * 100\n",
    "\n",
    "    # What country has the highest percentage of people that earn >50K?\n",
    "    Percents = ((df.loc[(df['salary'] == \">50K\")][\"native-country\"].value_counts()) / (df[\"native-country\"].value_counts())).sort_values(ascending=False)\n",
    "    highest_earning_country = Percents.index[0]\n",
    "    highest_earning_country_percentage = Percents[0] * 100\n",
    "\n",
    "    # Identify the most popular occupation for those who earn >50K in India.\n",
    "    India_Rich = df.loc[(df['salary'] == \">50K\")][df[\"native-country\"] == \"India\"]\n",
    "    top_IN_occupation = India_Rich[\"occupation\"].value_counts().index[0]\n",
    "\n",
    "    # DO NOT MODIFY BELOW THIS LINE\n",
    "\n",
    "    if print_data:\n",
    "        print(\"Number of each race:\\n\", race_count) \n",
    "        print(\"Average age of men:\", average_age_men)\n",
    "        print(f\"Percentage with Bachelors degrees: {percentage_bachelors}%\")\n",
    "        print(f\"Percentage with higher education that earn >50K: {higher_education_rich}%\")\n",
    "        print(f\"Percentage without higher education that earn >50K: {lower_education_rich}%\")\n",
    "        print(f\"Min work time: {min_work_hours} hours/week\")\n",
    "        print(f\"Percentage of rich among those who work fewest hours: {rich_percentage}%\")\n",
    "        print(\"Country with highest percentage of rich:\", highest_earning_country)\n",
    "        print(f\"Highest percentage of rich people in country: {highest_earning_country_percentage}%\")\n",
    "        print(\"Top occupations in India:\", top_IN_occupation)\n",
    "\n",
    "    return {\n",
    "        'race_count': race_count,\n",
    "        'average_age_men': average_age_men,\n",
    "        'percentage_bachelors': percentage_bachelors,\n",
    "        'higher_education_rich': higher_education_rich,\n",
    "        'lower_education_rich': lower_education_rich,\n",
    "        'min_work_hours': min_work_hours,\n",
    "        'rich_percentage': rich_percentage,\n",
    "        'highest_earning_country': highest_earning_country,\n",
    "        'highest_earning_country_percentage':\n",
    "        highest_earning_country_percentage,\n",
    "        'top_IN_occupation': top_IN_occupation\n",
    "    }\n"
   ]
  },
  {
   "cell_type": "code",
   "execution_count": 2,
   "id": "46fab3cb-3593-4691-bbc6-4e27aafc0232",
   "metadata": {},
   "outputs": [],
   "source": [
    "import numpy as np\n",
    "import pandas as pd\n",
    "import matplotlib.pyplot as plt\n",
    "from scipy import stats\n",
    "\n",
    "df = pd.read_csv(\"adult.data.csv\")"
   ]
  },
  {
   "cell_type": "code",
   "execution_count": 3,
   "id": "13a65985-9042-47a9-8425-14089345691b",
   "metadata": {},
   "outputs": [
    {
     "data": {
      "text/html": [
       "<div>\n",
       "<style scoped>\n",
       "    .dataframe tbody tr th:only-of-type {\n",
       "        vertical-align: middle;\n",
       "    }\n",
       "\n",
       "    .dataframe tbody tr th {\n",
       "        vertical-align: top;\n",
       "    }\n",
       "\n",
       "    .dataframe thead th {\n",
       "        text-align: right;\n",
       "    }\n",
       "</style>\n",
       "<table border=\"1\" class=\"dataframe\">\n",
       "  <thead>\n",
       "    <tr style=\"text-align: right;\">\n",
       "      <th></th>\n",
       "      <th>age</th>\n",
       "      <th>workclass</th>\n",
       "      <th>fnlwgt</th>\n",
       "      <th>education</th>\n",
       "      <th>education-num</th>\n",
       "      <th>marital-status</th>\n",
       "      <th>occupation</th>\n",
       "      <th>relationship</th>\n",
       "      <th>race</th>\n",
       "      <th>sex</th>\n",
       "      <th>capital-gain</th>\n",
       "      <th>capital-loss</th>\n",
       "      <th>hours-per-week</th>\n",
       "      <th>native-country</th>\n",
       "      <th>salary</th>\n",
       "    </tr>\n",
       "  </thead>\n",
       "  <tbody>\n",
       "    <tr>\n",
       "      <th>0</th>\n",
       "      <td>39</td>\n",
       "      <td>State-gov</td>\n",
       "      <td>77516</td>\n",
       "      <td>Bachelors</td>\n",
       "      <td>13</td>\n",
       "      <td>Never-married</td>\n",
       "      <td>Adm-clerical</td>\n",
       "      <td>Not-in-family</td>\n",
       "      <td>White</td>\n",
       "      <td>Male</td>\n",
       "      <td>2174</td>\n",
       "      <td>0</td>\n",
       "      <td>40</td>\n",
       "      <td>United-States</td>\n",
       "      <td>&lt;=50K</td>\n",
       "    </tr>\n",
       "    <tr>\n",
       "      <th>1</th>\n",
       "      <td>50</td>\n",
       "      <td>Self-emp-not-inc</td>\n",
       "      <td>83311</td>\n",
       "      <td>Bachelors</td>\n",
       "      <td>13</td>\n",
       "      <td>Married-civ-spouse</td>\n",
       "      <td>Exec-managerial</td>\n",
       "      <td>Husband</td>\n",
       "      <td>White</td>\n",
       "      <td>Male</td>\n",
       "      <td>0</td>\n",
       "      <td>0</td>\n",
       "      <td>13</td>\n",
       "      <td>United-States</td>\n",
       "      <td>&lt;=50K</td>\n",
       "    </tr>\n",
       "    <tr>\n",
       "      <th>2</th>\n",
       "      <td>38</td>\n",
       "      <td>Private</td>\n",
       "      <td>215646</td>\n",
       "      <td>HS-grad</td>\n",
       "      <td>9</td>\n",
       "      <td>Divorced</td>\n",
       "      <td>Handlers-cleaners</td>\n",
       "      <td>Not-in-family</td>\n",
       "      <td>White</td>\n",
       "      <td>Male</td>\n",
       "      <td>0</td>\n",
       "      <td>0</td>\n",
       "      <td>40</td>\n",
       "      <td>United-States</td>\n",
       "      <td>&lt;=50K</td>\n",
       "    </tr>\n",
       "    <tr>\n",
       "      <th>3</th>\n",
       "      <td>53</td>\n",
       "      <td>Private</td>\n",
       "      <td>234721</td>\n",
       "      <td>11th</td>\n",
       "      <td>7</td>\n",
       "      <td>Married-civ-spouse</td>\n",
       "      <td>Handlers-cleaners</td>\n",
       "      <td>Husband</td>\n",
       "      <td>Black</td>\n",
       "      <td>Male</td>\n",
       "      <td>0</td>\n",
       "      <td>0</td>\n",
       "      <td>40</td>\n",
       "      <td>United-States</td>\n",
       "      <td>&lt;=50K</td>\n",
       "    </tr>\n",
       "    <tr>\n",
       "      <th>4</th>\n",
       "      <td>28</td>\n",
       "      <td>Private</td>\n",
       "      <td>338409</td>\n",
       "      <td>Bachelors</td>\n",
       "      <td>13</td>\n",
       "      <td>Married-civ-spouse</td>\n",
       "      <td>Prof-specialty</td>\n",
       "      <td>Wife</td>\n",
       "      <td>Black</td>\n",
       "      <td>Female</td>\n",
       "      <td>0</td>\n",
       "      <td>0</td>\n",
       "      <td>40</td>\n",
       "      <td>Cuba</td>\n",
       "      <td>&lt;=50K</td>\n",
       "    </tr>\n",
       "  </tbody>\n",
       "</table>\n",
       "</div>"
      ],
      "text/plain": [
       "   age         workclass  fnlwgt  education  education-num  \\\n",
       "0   39         State-gov   77516  Bachelors             13   \n",
       "1   50  Self-emp-not-inc   83311  Bachelors             13   \n",
       "2   38           Private  215646    HS-grad              9   \n",
       "3   53           Private  234721       11th              7   \n",
       "4   28           Private  338409  Bachelors             13   \n",
       "\n",
       "       marital-status         occupation   relationship   race     sex  \\\n",
       "0       Never-married       Adm-clerical  Not-in-family  White    Male   \n",
       "1  Married-civ-spouse    Exec-managerial        Husband  White    Male   \n",
       "2            Divorced  Handlers-cleaners  Not-in-family  White    Male   \n",
       "3  Married-civ-spouse  Handlers-cleaners        Husband  Black    Male   \n",
       "4  Married-civ-spouse     Prof-specialty           Wife  Black  Female   \n",
       "\n",
       "   capital-gain  capital-loss  hours-per-week native-country salary  \n",
       "0          2174             0              40  United-States  <=50K  \n",
       "1             0             0              13  United-States  <=50K  \n",
       "2             0             0              40  United-States  <=50K  \n",
       "3             0             0              40  United-States  <=50K  \n",
       "4             0             0              40           Cuba  <=50K  "
      ]
     },
     "execution_count": 3,
     "metadata": {},
     "output_type": "execute_result"
    }
   ],
   "source": [
    "df.head()"
   ]
  },
  {
   "cell_type": "code",
   "execution_count": 14,
   "id": "c1f9edd0-29df-4da5-bcc6-839d1dab83df",
   "metadata": {},
   "outputs": [
    {
     "name": "stdout",
     "output_type": "stream",
     "text": [
      "0          Male\n",
      "1          Male\n",
      "2          Male\n",
      "3          Male\n",
      "4        Female\n",
      "          ...  \n",
      "32556    Female\n",
      "32557      Male\n",
      "32558    Female\n",
      "32559      Male\n",
      "32560    Female\n",
      "Name: sex, Length: 32561, dtype: object\n",
      "Male      21790\n",
      "Female    10771\n",
      "Name: sex, dtype: int64\n"
     ]
    }
   ],
   "source": [
    "racecount = df[\"race\"].value_counts()\n",
    "\n",
    "#uniquerace = race.unique() #return a list of all unique values in a pandas series.\n",
    "\n",
    "#racecount = race.value_counts() #returns a series with the counts of each unique value\n",
    "\n",
    "#print(df[\"age\"].mean())\n",
    "\n",
    "men = df[\"sex\"]\n",
    "#men.drop(labels = \"Female\")\n",
    "\n",
    "print(df[\"sex\"].value_counts())"
   ]
  },
  {
   "cell_type": "code",
   "execution_count": 83,
   "id": "4eb32db3-e7d8-463e-ab17-3efc04b03061",
   "metadata": {},
   "outputs": [],
   "source": [
    "\n",
    "# Getting a number\n",
    "higher_education = (len(df.loc[df['education'] == \"Bachelors\"])) + (len(df.loc[df['education'] == \"Masters\"])) + (len(df.loc[df['education'] == \"Doctorate\"]))\n",
    "\n",
    "#getting the data:\n",
    "#higher_educationDF = (df.loc[df['education'] == \"Bachelors\"]) & (df.loc[df['education'] == \"Masters\"]) & (df.loc[df['education'] == \"Doctorate\"])\n",
    "High_Educ = df.loc[(df['education'] == \"Bachelors\") | (df['education'] == \"Masters\") | (df['education'] == \"Doctorate\")]\n",
    "Low_Educ = df.loc[~(df['education'] == \"Bachelors\") & ~(df['education'] == \"Masters\") & ~(df['education'] == \"Doctorate\")]\n",
    "\n",
    "higher_education_rich = (len(High_Educ.loc[df['salary'] == \">50K\"]) / len(High_Educ)) * 100\n",
    "lower_education_rich = (len(Low_Educ.loc[df['salary'] == \">50K\"]) / len(Low_Educ)) * 100\n"
   ]
  },
  {
   "cell_type": "code",
   "execution_count": 107,
   "id": "9ffd6ce9-2f75-4ec4-b488-e8a696bdc7d9",
   "metadata": {},
   "outputs": [
    {
     "data": {
      "text/plain": [
       "20"
      ]
     },
     "execution_count": 107,
     "metadata": {},
     "output_type": "execute_result"
    }
   ],
   "source": [
    "#df[\"hours-per-week\"].values_counts()\n",
    "#print(df.min()) #[\"hours-per-week\"].value_counts())\n",
    "\n",
    "df[\"hours-per-week\"].min()\n",
    "\n",
    "len(df.loc[(df['hours-per-week'] == df[\"hours-per-week\"].min())])"
   ]
  },
  {
   "cell_type": "code",
   "execution_count": 104,
   "id": "54d2112f-dbce-43a4-8d3d-d93ae994d3a5",
   "metadata": {},
   "outputs": [
    {
     "data": {
      "text/plain": [
       "0.0006142317496391389"
      ]
     },
     "execution_count": 104,
     "metadata": {},
     "output_type": "execute_result"
    }
   ],
   "source": [
    "len(df.loc[(df['hours-per-week'] == df[\"hours-per-week\"].min())]) / len(df) * 100"
   ]
  },
  {
   "cell_type": "code",
   "execution_count": 126,
   "id": "150a7638-6a1e-4eb8-8eb8-12b01079a639",
   "metadata": {},
   "outputs": [
    {
     "data": {
      "text/plain": [
       "United-States         7171\n",
       "?                      146\n",
       "Philippines             61\n",
       "Germany                 44\n",
       "India                   40\n",
       "Canada                  39\n",
       "Mexico                  33\n",
       "England                 30\n",
       "Italy                   25\n",
       "Cuba                    25\n",
       "Japan                   24\n",
       "Taiwan                  20\n",
       "China                   20\n",
       "Iran                    18\n",
       "South                   16\n",
       "Puerto-Rico             12\n",
       "Poland                  12\n",
       "France                  12\n",
       "Jamaica                 10\n",
       "El-Salvador              9\n",
       "Greece                   8\n",
       "Cambodia                 7\n",
       "Hong                     6\n",
       "Yugoslavia               6\n",
       "Ireland                  5\n",
       "Vietnam                  5\n",
       "Portugal                 4\n",
       "Haiti                    4\n",
       "Ecuador                  4\n",
       "Thailand                 3\n",
       "Hungary                  3\n",
       "Guatemala                3\n",
       "Scotland                 3\n",
       "Nicaragua                2\n",
       "Trinadad&Tobago          2\n",
       "Laos                     2\n",
       "Columbia                 2\n",
       "Dominican-Republic       2\n",
       "Peru                     2\n",
       "Honduras                 1\n",
       "Name: native-country, dtype: int64"
      ]
     },
     "execution_count": 126,
     "metadata": {},
     "output_type": "execute_result"
    }
   ],
   "source": [
    "morethanfifty = df.loc[(df['salary'] == \">50K\")][\"native-country\"].mode()\n",
    "#print(morethanfifty)\n",
    "\n",
    "# Country with the highest number of over 50K earners\n",
    "df.loc[(df['salary'] == \">50K\")][\"native-country\"].value_counts().index.values[0]\n",
    "\n",
    "# All countries with over 50K earners\n",
    "df.loc[(df['salary'] == \">50K\")][\"native-country\"].value_counts()"
   ]
  },
  {
   "cell_type": "code",
   "execution_count": 127,
   "id": "9337477e-5cfd-44e2-a196-5ec8840c05da",
   "metadata": {},
   "outputs": [
    {
     "data": {
      "text/plain": [
       "United-States                 29170\n",
       "Mexico                          643\n",
       "?                               583\n",
       "Philippines                     198\n",
       "Germany                         137\n",
       "Canada                          121\n",
       "Puerto-Rico                     114\n",
       "El-Salvador                     106\n",
       "India                           100\n",
       "Cuba                             95\n",
       "England                          90\n",
       "Jamaica                          81\n",
       "South                            80\n",
       "China                            75\n",
       "Italy                            73\n",
       "Dominican-Republic               70\n",
       "Vietnam                          67\n",
       "Guatemala                        64\n",
       "Japan                            62\n",
       "Poland                           60\n",
       "Columbia                         59\n",
       "Taiwan                           51\n",
       "Haiti                            44\n",
       "Iran                             43\n",
       "Portugal                         37\n",
       "Nicaragua                        34\n",
       "Peru                             31\n",
       "France                           29\n",
       "Greece                           29\n",
       "Ecuador                          28\n",
       "Ireland                          24\n",
       "Hong                             20\n",
       "Cambodia                         19\n",
       "Trinadad&Tobago                  19\n",
       "Laos                             18\n",
       "Thailand                         18\n",
       "Yugoslavia                       16\n",
       "Outlying-US(Guam-USVI-etc)       14\n",
       "Honduras                         13\n",
       "Hungary                          13\n",
       "Scotland                         12\n",
       "Holand-Netherlands                1\n",
       "Name: native-country, dtype: int64"
      ]
     },
     "execution_count": 127,
     "metadata": {},
     "output_type": "execute_result"
    }
   ],
   "source": [
    "df[\"native-country\"].value_counts()"
   ]
  },
  {
   "cell_type": "code",
   "execution_count": 135,
   "id": "7c475f72-6cf2-449a-8cce-60fc3200b387",
   "metadata": {},
   "outputs": [
    {
     "data": {
      "text/plain": [
       "?                             0.250429\n",
       "Cambodia                      0.368421\n",
       "Canada                        0.322314\n",
       "China                         0.266667\n",
       "Columbia                      0.033898\n",
       "Cuba                          0.263158\n",
       "Dominican-Republic            0.028571\n",
       "Ecuador                       0.142857\n",
       "El-Salvador                   0.084906\n",
       "England                       0.333333\n",
       "France                        0.413793\n",
       "Germany                       0.321168\n",
       "Greece                        0.275862\n",
       "Guatemala                     0.046875\n",
       "Haiti                         0.090909\n",
       "Holand-Netherlands                 NaN\n",
       "Honduras                      0.076923\n",
       "Hong                          0.300000\n",
       "Hungary                       0.230769\n",
       "India                         0.400000\n",
       "Iran                          0.418605\n",
       "Ireland                       0.208333\n",
       "Italy                         0.342466\n",
       "Jamaica                       0.123457\n",
       "Japan                         0.387097\n",
       "Laos                          0.111111\n",
       "Mexico                        0.051322\n",
       "Nicaragua                     0.058824\n",
       "Outlying-US(Guam-USVI-etc)         NaN\n",
       "Peru                          0.064516\n",
       "Philippines                   0.308081\n",
       "Poland                        0.200000\n",
       "Portugal                      0.108108\n",
       "Puerto-Rico                   0.105263\n",
       "Scotland                      0.250000\n",
       "South                         0.200000\n",
       "Taiwan                        0.392157\n",
       "Thailand                      0.166667\n",
       "Trinadad&Tobago               0.105263\n",
       "United-States                 0.245835\n",
       "Vietnam                       0.074627\n",
       "Yugoslavia                    0.375000\n",
       "Name: native-country, dtype: float64"
      ]
     },
     "execution_count": 135,
     "metadata": {},
     "output_type": "execute_result"
    }
   ],
   "source": [
    "((df.loc[(df['salary'] == \">50K\")][\"native-country\"].value_counts()) / (df[\"native-country\"].value_counts()))"
   ]
  },
  {
   "cell_type": "code",
   "execution_count": 147,
   "id": "6f524ae4-a637-4eb4-9935-385d51812e67",
   "metadata": {},
   "outputs": [],
   "source": []
  },
  {
   "cell_type": "code",
   "execution_count": 13,
   "id": "d59a2c0d-8785-4bfc-8959-2077774c5274",
   "metadata": {},
   "outputs": [
    {
     "name": "stderr",
     "output_type": "stream",
     "text": [
      "C:\\Users\\David\\AppData\\Local\\Temp\\ipykernel_11040\\1656274501.py:1: UserWarning: Boolean Series key will be reindexed to match DataFrame index.\n",
      "  India_Rich = df.loc[(df['salary'] == \">50K\")][df[\"native-country\"] == \"India\"]\n"
     ]
    },
    {
     "data": {
      "text/plain": [
       "'Prof-specialty'"
      ]
     },
     "execution_count": 13,
     "metadata": {},
     "output_type": "execute_result"
    }
   ],
   "source": [
    "India_Rich = df.loc[(df['salary'] == \">50K\")][df[\"native-country\"] == \"India\"]\n",
    "India_Rich[\"occupation\"].value_counts().index[0]\n"
   ]
  },
  {
   "cell_type": "code",
   "execution_count": 149,
   "id": "7b438a0d-e0b4-4f32-85b5-15581e3aa095",
   "metadata": {},
   "outputs": [],
   "source": [
    " Percentages = ((df.loc[(df['salary'] == \">50K\")][\"native-country\"].value_counts()) / (df[\"native-country\"].value_counts())).sort_values(ascending=False)\n",
    "    "
   ]
  },
  {
   "cell_type": "code",
   "execution_count": 24,
   "id": "97fbc09a-8d39-4e00-9b11-58f2990d1e75",
   "metadata": {},
   "outputs": [
    {
     "data": {
      "text/plain": [
       "0.1"
      ]
     },
     "execution_count": 24,
     "metadata": {},
     "output_type": "execute_result"
    }
   ],
   "source": [
    "# What is the minimum number of hours a person works per week (hours-per-week feature)?\n",
    "min_work_hours = df[\"hours-per-week\"].min()\n",
    "\n",
    "    # What percentage of the people who work the minimum number of hours per week have a salary of >50K?\n",
    "    \n",
    "    #All workers who work the minimum amount of hours:\n",
    "num_min_workers = df.loc[(df['hours-per-week'] == min_work_hours)]\n",
    "\n",
    "# Workers who work minimum and earn more than 50k divided by total workers who work minimum\n",
    "len(num_min_workers.loc[num_min_workers[\"salary\"] == \">50K\"]) / len(num_min_workers)\n",
    "\n"
   ]
  },
  {
   "cell_type": "code",
   "execution_count": null,
   "id": "49d34d9f-0828-4927-b058-a2067972e981",
   "metadata": {},
   "outputs": [],
   "source": []
  }
 ],
 "metadata": {
  "kernelspec": {
   "display_name": "Python 3 (ipykernel)",
   "language": "python",
   "name": "python3"
  },
  "language_info": {
   "codemirror_mode": {
    "name": "ipython",
    "version": 3
   },
   "file_extension": ".py",
   "mimetype": "text/x-python",
   "name": "python",
   "nbconvert_exporter": "python",
   "pygments_lexer": "ipython3",
   "version": "3.10.7"
  }
 },
 "nbformat": 4,
 "nbformat_minor": 5
}
